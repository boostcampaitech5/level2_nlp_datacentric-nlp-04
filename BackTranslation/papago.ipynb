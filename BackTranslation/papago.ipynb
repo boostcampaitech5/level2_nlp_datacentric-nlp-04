{
 "cells": [
  {
   "cell_type": "markdown",
   "id": "ce3287b1-8df4-4915-8926-524d9674edc8",
   "metadata": {
    "tags": []
   },
   "source": [
    "## 파파고 api를 사용한 Back Translation Augmentation"
   ]
  },
  {
   "cell_type": "code",
   "execution_count": 1,
   "id": "cbe3cf5c-2fb0-465e-8dec-999cc5cd3b7c",
   "metadata": {
    "tags": []
   },
   "outputs": [],
   "source": [
    "import pandas as pd\n",
    "import time\n",
    "import os\n",
    "import sys\n",
    "import urllib.request"
   ]
  },
  {
   "cell_type": "code",
   "execution_count": 2,
   "id": "c5965276-4cb7-4ca4-9a53-ad6ea26b93e3",
   "metadata": {
    "tags": []
   },
   "outputs": [],
   "source": [
    "BASE_DIR = os.getcwd()\n",
    "DATA_DIR = os.path.join(BASE_DIR, '../../data')"
   ]
  },
  {
   "cell_type": "code",
   "execution_count": 5,
   "id": "64058fc8-7a17-44b1-94cd-934863578597",
   "metadata": {
    "tags": []
   },
   "outputs": [],
   "source": [
    "data = pd.read_csv(os.path.join(DATA_DIR, 'train.csv'))"
   ]
  },
  {
   "cell_type": "code",
   "execution_count": null,
   "id": "3363a151-d223-4db1-b653-4fb20e454a9d",
   "metadata": {},
   "outputs": [],
   "source": [
    "target = 'text'"
   ]
  },
  {
   "cell_type": "markdown",
   "id": "832d7be7-25ff-4c2e-a242-fb36f15b97d9",
   "metadata": {},
   "source": [
    "#### 파파고 api 사용 가이드 https://developers.naver.com/docs/papago/papago-nmt-overview.md\n",
    "##### api key를 직접 생성 후 입력 필요"
   ]
  },
  {
   "cell_type": "code",
   "execution_count": null,
   "id": "ac54f697-512c-4b6c-96d4-0303c8aa5a6a",
   "metadata": {},
   "outputs": [],
   "source": [
    "# api key 10개를 사용\n",
    "client_id = [\"\",\"\",\"\",\"\",\"\",\"\",\"\",\"\",\"\",\"\"]\n",
    "client_secret = [\"\",\"\",\"\",\"\",\"\",\"\",\"\",\"\",\"\",\"\"]\n",
    "limit = 10000\n",
    "use = [0, 0, 0, 0, 0, 0, 0, 0, 0, 0]"
   ]
  },
  {
   "cell_type": "code",
   "execution_count": null,
   "id": "68ea94c9-ea9a-426b-81f0-a0b19a1e4fa5",
   "metadata": {},
   "outputs": [],
   "source": [
    "def ToEN(koText, client_id, client_secret):\n",
    "    encText = urllib.parse.quote(koText)\n",
    "    data = \"source=ko&target=en&text=\" + encText\n",
    "    url = \"https://openapi.naver.com/v1/papago/n2mt\"\n",
    "    request = urllib.request.Request(url)\n",
    "    request.add_header(\"X-Naver-Client-Id\",client_id)\n",
    "    request.add_header(\"X-Naver-Client-Secret\",client_secret)\n",
    "    response = urllib.request.urlopen(request, data=data.encode(\"utf-8\"))\n",
    "    rescode = response.getcode()\n",
    "    if(rescode==200):\n",
    "        response_body = response.read()\n",
    "        return eval(response_body.decode('utf-8'))['message']['result']['translatedText']\n",
    "    else:\n",
    "        print(\"Error Code:\" + rescode)"
   ]
  },
  {
   "cell_type": "code",
   "execution_count": null,
   "id": "62548299-6d0a-496f-9b89-5fb2d6eab58a",
   "metadata": {},
   "outputs": [],
   "source": [
    "def ToKO(egText, client_id, client_secret):\n",
    "    kocText = urllib.parse.quote(egText)\n",
    "    data = \"source=en&target=ko&text=\" + kocText\n",
    "    url = \"https://openapi.naver.com/v1/papago/n2mt\"\n",
    "    request = urllib.request.Request(url)\n",
    "    request.add_header(\"X-Naver-Client-Id\",client_id)\n",
    "    request.add_header(\"X-Naver-Client-Secret\",client_secret)\n",
    "    response = urllib.request.urlopen(request, data=data.encode(\"utf-8\"))\n",
    "    rescode = response.getcode()\n",
    "    if(rescode==200):\n",
    "        response_body = response.read()\n",
    "        return eval(response_body.decode('utf-8'))['message']['result']['translatedText']\n",
    "    else:\n",
    "        print(\"Error Code:\" + rescode)"
   ]
  },
  {
   "cell_type": "markdown",
   "id": "428e8523-3bbf-495c-983d-531728190404",
   "metadata": {},
   "source": [
    "#### 사용할 index 범위를 지정"
   ]
  },
  {
   "cell_type": "code",
   "execution_count": null,
   "id": "02a4644c-7cd3-4c35-967e-4ec19ac8b540",
   "metadata": {},
   "outputs": [],
   "source": [
    "idx_start = 0\n",
    "idx_end = 100"
   ]
  },
  {
   "cell_type": "markdown",
   "id": "7fdc0db6-c523-4fea-bb5a-781da03bcad6",
   "metadata": {},
   "source": [
    "##### 사용량을 측정해 자동으로 api key를 변경\n",
    "##### 모든 할당량을 초과하면 자동 정지"
   ]
  },
  {
   "cell_type": "code",
   "execution_count": null,
   "id": "b6b9f7d8-4a16-4cbf-96de-c1948b6744b7",
   "metadata": {},
   "outputs": [],
   "source": [
    "arrKO = []\n",
    "total_use = [0] * len(client_id)\n",
    "i = 0\n",
    "for idx, s in enumerate(data[target][idx_start: idx_end+1]):\n",
    "    start = time.time()\n",
    "    if len(s) > limit - use[i] - total_use[i]:\n",
    "        i+=1\n",
    "        if i>=len(client_id):\n",
    "            print('out of usage')\n",
    "            break\n",
    "        print('key change to',i)\n",
    "        print(total_use)\n",
    "        \n",
    "    total_use[i] += len(s)\n",
    "    tmp = ToEN(s,client_id[i],client_secret[i])\n",
    "    \n",
    "    if len(tmp) > limit - use[i] - total_use[i]:\n",
    "        i+=1\n",
    "        if i>=len(client_id):\n",
    "            print('out of usage')\n",
    "            break\n",
    "        print('key change to',i)\n",
    "        print(total_use)\n",
    "    total_use[i] += len(tmp)\n",
    "    \n",
    "    tmp = ToKO(tmp, client_id[i], client_secret[i])\n",
    "    arrKO.append(tmp)\n",
    "    \n",
    "    end = time.time()\n",
    "    print(f\"{idx_start+idx} {end-start:.5f} sec\")"
   ]
  },
  {
   "cell_type": "code",
   "execution_count": null,
   "id": "2f689335-d313-4ab4-988f-86628631cd72",
   "metadata": {},
   "outputs": [],
   "source": [
    "copy = data.iloc[idx_start:idx_end+1, :]\n",
    "copy[target]=arrKO\n",
    "copy"
   ]
  },
  {
   "cell_type": "code",
   "execution_count": null,
   "id": "1e98c5a2-fbf9-44fb-9913-6bd3b30171b8",
   "metadata": {},
   "outputs": [],
   "source": [
    "copy.to_csv(f'papago/idx{idx_start}-{idx_end}.csv',index=False)"
   ]
  },
  {
   "cell_type": "markdown",
   "id": "b3292a8f-46ee-434c-b850-e230180217d5",
   "metadata": {},
   "source": [
    "## papago 폴더의 csv 파일들 합치기"
   ]
  },
  {
   "cell_type": "code",
   "execution_count": null,
   "id": "8f04acc3-8b8e-47ae-a6a7-8040051b92dc",
   "metadata": {},
   "outputs": [],
   "source": [
    "folder_path = \"papago\"\n",
    "file_list = [file for file in os.listdir(folder_path) if file.endswith(\".csv\")]\n",
    "sorted_files = sorted(file_list, key=lambda x: int(x.split(\"idx\")[1].split(\"-\")[0]))\n",
    "sorted_files"
   ]
  },
  {
   "cell_type": "code",
   "execution_count": null,
   "id": "9d2d75fb-d7ea-4df8-9af8-bef09869ceef",
   "metadata": {},
   "outputs": [],
   "source": [
    "dfs = []\n",
    "for file in sorted_files:\n",
    "    file_path = os.path.join(folder_path, file)\n",
    "    df = pd.read_csv(file_path)\n",
    "    dfs.append(df)"
   ]
  },
  {
   "cell_type": "code",
   "execution_count": null,
   "id": "3c55dd0a-d24c-4b99-92ce-04ddeb857d8c",
   "metadata": {},
   "outputs": [],
   "source": [
    "combined_df = pd.concat(dfs, ignore_index=True)\n",
    "combined_df"
   ]
  },
  {
   "cell_type": "code",
   "execution_count": null,
   "id": "2e55fbd8-57d3-4b96-ae84-3ce341b06455",
   "metadata": {},
   "outputs": [],
   "source": [
    "combined_df.to_csv('papagoTrans.csv',index=False)"
   ]
  }
 ],
 "metadata": {
  "kernelspec": {
   "display_name": "Python 3 (ipykernel)",
   "language": "python",
   "name": "python3"
  },
  "language_info": {
   "codemirror_mode": {
    "name": "ipython",
    "version": 3
   },
   "file_extension": ".py",
   "mimetype": "text/x-python",
   "name": "python",
   "nbconvert_exporter": "python",
   "pygments_lexer": "ipython3",
   "version": "3.8.5"
  }
 },
 "nbformat": 4,
 "nbformat_minor": 5
}
