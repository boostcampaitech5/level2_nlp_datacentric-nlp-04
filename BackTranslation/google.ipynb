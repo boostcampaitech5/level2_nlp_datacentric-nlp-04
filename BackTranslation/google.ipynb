{
 "cells": [
  {
   "cell_type": "markdown",
   "id": "a3da9b62-9d46-4daa-8724-b4a8d9733d41",
   "metadata": {},
   "source": [
    "## 구글 번역기를 사용한 Back Translation Augmentation"
   ]
  },
  {
   "cell_type": "code",
   "execution_count": null,
   "id": "ad408e52-021a-458a-85ef-1627cc745984",
   "metadata": {},
   "outputs": [],
   "source": [
    "# !pip install googletrans==4.0.0rc1"
   ]
  },
  {
   "cell_type": "code",
   "execution_count": null,
   "id": "da2493b5-2229-4a84-864a-fc3917c17e6e",
   "metadata": {
    "tags": []
   },
   "outputs": [],
   "source": [
    "from googletrans import Translator\n",
    "import pandas as pd\n",
    "import os\n",
    "import time"
   ]
  },
  {
   "cell_type": "code",
   "execution_count": null,
   "id": "8107e242-3260-4bd1-8e1c-c38f497e79ca",
   "metadata": {
    "tags": []
   },
   "outputs": [],
   "source": [
    "BASE_DIR = os.getcwd()\n",
    "DATA_DIR = os.path.join(BASE_DIR, '../../data')\n",
    "data = pd.read_csv(os.path.join(DATA_DIR, 'train.csv'))"
   ]
  },
  {
   "cell_type": "code",
   "execution_count": null,
   "id": "59934ff1-4eca-420e-b2f3-dea7b7555362",
   "metadata": {
    "tags": []
   },
   "outputs": [],
   "source": [
    "translator = Translator(service_urls=['translate.google.co.kr'])"
   ]
  },
  {
   "cell_type": "code",
   "execution_count": null,
   "id": "598c9d05-3470-4338-8914-9132455ec5be",
   "metadata": {
    "tags": []
   },
   "outputs": [],
   "source": [
    "target = 'text'"
   ]
  },
  {
   "cell_type": "code",
   "execution_count": null,
   "id": "e722e29e-2b3d-4746-a3a5-5316b9935a63",
   "metadata": {
    "tags": []
   },
   "outputs": [],
   "source": [
    "new_sentences = []\n",
    "err_idx = []\n",
    "new_sentence = 'tmp'\n",
    "\n",
    "for i, sentence in enumerate(data[target]):\n",
    "    start = time.time()\n",
    "    try:\n",
    "        new_sentence = translator.translate(translator.translate(sentence, src='ko', dest='en').text, src='en', dest='ko').text\n",
    "    except:\n",
    "        print(f\"error idx : {i}, sentence : {sentence}\")\n",
    "        err_idx.append(i)\n",
    "    end = time.time()\n",
    "    new_sentences.append(new_sentence)\n",
    "    print(f\"{i} total : {end-start:.5f} sec\")"
   ]
  },
  {
   "cell_type": "code",
   "execution_count": null,
   "id": "f43de486-19ae-4ff3-b67c-6670229e50bf",
   "metadata": {
    "tags": []
   },
   "outputs": [],
   "source": [
    "print(len(err_idx))"
   ]
  },
  {
   "cell_type": "markdown",
   "id": "4241d7c3-da13-4b90-8fc1-9f10f7214088",
   "metadata": {},
   "source": [
    "#### 서버 환경에 따라 에러 index가 생길 수 있고 new_sentences에 중복된 문장이 추가됨\n",
    "#### 아래의 코드로 문제의 index를 변경"
   ]
  },
  {
   "cell_type": "code",
   "execution_count": null,
   "id": "d940f6ca-f9a3-4442-b32e-255f170e40a8",
   "metadata": {
    "tags": []
   },
   "outputs": [],
   "source": [
    "tmp_idx = []\n",
    "for i, sentence in zip(err_idx, data.iloc[err_idx , :][target]):\n",
    "    start = time.time()\n",
    "    try:\n",
    "        new_sentences[i] = translator.translate(translator.translate(sentence, src='ko', dest='en').text, src='en', dest='ko').text\n",
    "    except:\n",
    "        print(f\"error idx : {i}, sentence : {sentence}\")\n",
    "        tmp_idx.append(i)\n",
    "        continue\n",
    "    end = time.time()\n",
    "    print(f\"{i} total : {end-start:.5f} sec\")"
   ]
  },
  {
   "cell_type": "code",
   "execution_count": null,
   "id": "4402186e-9f28-41bb-b17a-c06c5df40eff",
   "metadata": {
    "tags": []
   },
   "outputs": [],
   "source": [
    "print(tmp_idx)\n",
    "err_idx = tmp_idx"
   ]
  },
  {
   "cell_type": "code",
   "execution_count": null,
   "id": "c94c35fc-e96d-4bd4-a7ca-c42ce457d465",
   "metadata": {},
   "outputs": [],
   "source": []
  },
  {
   "cell_type": "code",
   "execution_count": null,
   "id": "2888735f-f989-4e01-951c-0d4c63faeb20",
   "metadata": {
    "tags": []
   },
   "outputs": [],
   "source": [
    "copy = data.copy()\n",
    "copy[target] = new_sentences\n",
    "copy"
   ]
  },
  {
   "cell_type": "code",
   "execution_count": null,
   "id": "b8718f53-1089-4873-bc02-9a0c752b1607",
   "metadata": {},
   "outputs": [],
   "source": [
    "copy.to_csv('googleTrans.csv',index=False)"
   ]
  }
 ],
 "metadata": {
  "kernelspec": {
   "display_name": "Python 3 (ipykernel)",
   "language": "python",
   "name": "python3"
  },
  "language_info": {
   "codemirror_mode": {
    "name": "ipython",
    "version": 3
   },
   "file_extension": ".py",
   "mimetype": "text/x-python",
   "name": "python",
   "nbconvert_exporter": "python",
   "pygments_lexer": "ipython3",
   "version": "3.8.5"
  }
 },
 "nbformat": 4,
 "nbformat_minor": 5
}
